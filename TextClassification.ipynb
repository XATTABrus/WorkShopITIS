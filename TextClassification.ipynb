{
 "cells": [
  {
   "cell_type": "markdown",
   "metadata": {},
   "source": [
    "## Классификация текстов"
   ]
  },
  {
   "cell_type": "markdown",
   "metadata": {},
   "source": [
    "<img src=\"http://vtm.e15.cz/files/imagecache/dust_filerenderer_big/upload/aktuality/ilustra_n__foto_4d0a03cf0b.jpg\" alt=\"Robot reads book\" style=\"width: 300px; float: right;\"/>"
   ]
  },
  {
   "cell_type": "markdown",
   "metadata": {},
   "source": [
    "#### =================================================\n",
    "#### Дмитрин Юрий\n",
    "#### Telegram: @XATTABrus (https://t.me/XATTABrus)\n",
    "#### VK: @XATTAB_rus (https://vk.com/xattab_rus)\n",
    "#### Все матриалы доступны по ссылке https://goo.gl/Ydu2iN\n",
    "#### ================================================="
   ]
  },
  {
   "cell_type": "markdown",
   "metadata": {},
   "source": [
    "**Зачем классифицировать тексты?**\n",
    "* Определение тональности обращения\n",
    "* Определение авторства текста\n",
    "* Определение спама\n",
    "* Определение намерения обращения\n",
    "* Определение категорий (тегов)"
   ]
  },
  {
   "cell_type": "markdown",
   "metadata": {},
   "source": [
    "### Задача отнесения новости к категории"
   ]
  },
  {
   "cell_type": "markdown",
   "metadata": {},
   "source": [
    "**Варианты подходов которые мы рассмотрим:**\n",
    "1. TF-IDF + Logit\n",
    "1. Average W2V Vector\n",
    "1. Char N-Grams + CNN"
   ]
  },
  {
   "cell_type": "markdown",
   "metadata": {},
   "source": [
    "### План занятия"
   ]
  },
  {
   "cell_type": "markdown",
   "metadata": {},
   "source": [
    "1. Собрать данные\n",
    "1. Почистить данные от мусора\n",
    "1. Токенизировать данные\n",
    "1. Провести лемматизацию (если требуется)\n",
    "1. Закодировать данные в вид, который понятен ML алгоритму\n",
    "1. Выбрать и применить алгоритм классификации"
   ]
  },
  {
   "cell_type": "markdown",
   "metadata": {},
   "source": [
    "### Подгоотовка данных"
   ]
  },
  {
   "cell_type": "markdown",
   "metadata": {},
   "source": [
    "Папка с данными: https://goo.gl/xJeD6V \n",
    "- lenta_10000.csv - 7 классов, 10000 новостей для каждого класса, всего 70к. новостей\n",
    "- lenta_1000.csv - 7 классов, 1000 новостей для каждого класса, всего 7к. новостей\n",
    "- lenta_1000_lem.csv - 7 классов, 1000 новостей для каждого класса, всего 7к. новостей + лемматизированный текст\n",
    "\n",
    "Список классов:\n",
    "- world\n",
    "- media\n",
    "- life\n",
    "- sport\n",
    "- science\n",
    "- economics\n",
    "- culture"
   ]
  },
  {
   "cell_type": "markdown",
   "metadata": {},
   "source": [
    "#### Импортируем необходимые библиотеки для работы"
   ]
  },
  {
   "cell_type": "code",
   "execution_count": 1,
   "metadata": {
    "collapsed": true
   },
   "outputs": [],
   "source": [
    "import numpy as np # Поддержка многомерных массивов, высокоуровневых математических функций для работы с многомерными массивами\n",
    "import pandas as pd # Библиотека для обработки и анализа данных\n",
    "from sklearn.preprocessing import LabelEncoder, OneHotEncoder # Функции для кодирования значений\n",
    "from sklearn.model_selection import train_test_split # Функция для разбиения данных на тренировочную выборку и тестовую\n",
    "from matplotlib import pyplot as plt # Библиотека для визуализации данных\n",
    "\n",
    "%matplotlib inline"
   ]
  },
  {
   "cell_type": "code",
   "execution_count": 2,
   "metadata": {
    "collapsed": true
   },
   "outputs": [],
   "source": [
    "np.random.seed(42) # Устанавливаем seed для повторяемости результатов"
   ]
  },
  {
   "cell_type": "markdown",
   "metadata": {},
   "source": [
    "#### Читаем данные"
   ]
  },
  {
   "cell_type": "code",
   "execution_count": 3,
   "metadata": {
    "collapsed": true
   },
   "outputs": [],
   "source": [
    "df = pd.read_csv('lenta_1000.csv', index_col=0, dtype ={'text': str, 'tag': str, 'title': str, 'lem_text': str})\n",
    "\n",
    "# Приводим столбцы к нужному типу данных\n",
    "df['text'] = df['text'].apply(str)\n",
    "df['tag'] = df['tag'].apply(str)\n",
    "df['title'] = df['title'].apply(str)"
   ]
  },
  {
   "cell_type": "code",
   "execution_count": 10,
   "metadata": {},
   "outputs": [
    {
     "data": {
      "text/html": [
       "<div>\n",
       "<style>\n",
       "    .dataframe thead tr:only-child th {\n",
       "        text-align: right;\n",
       "    }\n",
       "\n",
       "    .dataframe thead th {\n",
       "        text-align: left;\n",
       "    }\n",
       "\n",
       "    .dataframe tbody tr th {\n",
       "        vertical-align: top;\n",
       "    }\n",
       "</style>\n",
       "<table border=\"1\" class=\"dataframe\">\n",
       "  <thead>\n",
       "    <tr style=\"text-align: right;\">\n",
       "      <th></th>\n",
       "      <th>title</th>\n",
       "      <th>tag</th>\n",
       "    </tr>\n",
       "  </thead>\n",
       "  <tbody>\n",
       "    <tr>\n",
       "      <th>0</th>\n",
       "      <td>На севере Франции из-за авиабомбы эвакуировали...</td>\n",
       "      <td>world</td>\n",
       "    </tr>\n",
       "    <tr>\n",
       "      <th>1</th>\n",
       "      <td>Пилоты Lufthansa приостановили забастовку.</td>\n",
       "      <td>world</td>\n",
       "    </tr>\n",
       "    <tr>\n",
       "      <th>2</th>\n",
       "      <td>В премьер-министра Турции метнули ботинок.</td>\n",
       "      <td>world</td>\n",
       "    </tr>\n",
       "    <tr>\n",
       "      <th>3</th>\n",
       "      <td>Эксперты отсоветовали бундесверу приобретать н...</td>\n",
       "      <td>world</td>\n",
       "    </tr>\n",
       "    <tr>\n",
       "      <th>4</th>\n",
       "      <td>В Италии разгромили международную банду наркот...</td>\n",
       "      <td>world</td>\n",
       "    </tr>\n",
       "  </tbody>\n",
       "</table>\n",
       "</div>"
      ],
      "text/plain": [
       "                                               title    tag\n",
       "0  На севере Франции из-за авиабомбы эвакуировали...  world\n",
       "1        Пилоты Lufthansa приостановили забастовку.   world\n",
       "2        В премьер-министра Турции метнули ботинок.   world\n",
       "3  Эксперты отсоветовали бундесверу приобретать н...  world\n",
       "4  В Италии разгромили международную банду наркот...  world"
      ]
     },
     "execution_count": 10,
     "metadata": {},
     "output_type": "execute_result"
    }
   ],
   "source": [
    "df.head()"
   ]
  },
  {
   "cell_type": "code",
   "execution_count": 9,
   "metadata": {},
   "outputs": [],
   "source": [
    "df['title'] = df['title'].apply(lambda x: x.replace('\\xa0', ' '))\n",
    "df = df.drop(['text'], axis=1)"
   ]
  },
  {
   "cell_type": "code",
   "execution_count": 16,
   "metadata": {},
   "outputs": [
    {
     "name": "stdout",
     "output_type": "stream",
     "text": [
      "['В Пекине выбрана \"Мисс пластическая хирургия\". '\n",
      " 'Кабаниха Пулька получила звание лучшей мамы красноярского зоопарка. '\n",
      " 'Защитники бездомных соорудили в Париже пирамиду из матрасов. '\n",
      " 'В Израиле начальник дорожной полиции уволен за превышение скорости. '\n",
      " 'Шведские саперы приняли вибратор за бомбу. ']\n"
     ]
    }
   ],
   "source": [
    "print(df[df['tag'] == 'life']['title'].sample(n=5).values)"
   ]
  },
  {
   "cell_type": "markdown",
   "metadata": {},
   "source": [
    "#### Смотрим сколько у нас примеров для каждого класса"
   ]
  },
  {
   "cell_type": "code",
   "execution_count": 17,
   "metadata": {},
   "outputs": [
    {
     "data": {
      "text/plain": [
       "science      1000\n",
       "media        1000\n",
       "economics    1000\n",
       "life         1000\n",
       "culture      1000\n",
       "sport        1000\n",
       "world        1000\n",
       "Name: tag, dtype: int64"
      ]
     },
     "execution_count": 17,
     "metadata": {},
     "output_type": "execute_result"
    }
   ],
   "source": [
    "df.tag.value_counts()"
   ]
  },
  {
   "cell_type": "markdown",
   "metadata": {},
   "source": [
    "#### Получаем токены из текста"
   ]
  },
  {
   "cell_type": "markdown",
   "metadata": {},
   "source": [
    "- Нужно разбить текст на слова\n",
    "- Нужно удалить пунктуацию\n",
    "- Нужно удалить стоп слова\n",
    "\n",
    "Текст: \"Тут очень большой и очень, очень крутой текст который нам нужно разбить на токены.\" <br/>\n",
    "Токены: \"тут\", \"очень\", \"большой\", \"очень\", \"очень\", \"крутой\", \"текст\", \"который\", \"нужно\", \"разбить\", \"токены\" "
   ]
  },
  {
   "cell_type": "code",
   "execution_count": 18,
   "metadata": {
    "collapsed": true
   },
   "outputs": [],
   "source": [
    "import nltk\n",
    "import string\n",
    "from nltk.corpus import stopwords\n",
    "\n",
    "# nltk.download('punkt') # Скачать словарь пунктуации\n",
    "# nltk.download('stopwords') # Скачать словарь стоп слов\n",
    "\n",
    "# nltk.download() # Скачиваем словари для работы NLTK\n",
    "# Выполняем в консоле \"python -m nltk.downloader all\"\n",
    " \n",
    "def tokenize(text):\n",
    "    #firstly let's apply nltk tokenization\n",
    "    tokens = nltk.word_tokenize(text)\n",
    " \n",
    "    #let's delete punctuation symbols\n",
    "    tokens = [i for i in tokens if ( i not in string.punctuation )]\n",
    " \n",
    "    #deleting stop_words\n",
    "    stop_words = stopwords.words('russian')\n",
    "    stop_words.extend(['что', 'это', 'так', 'вот', 'быть', 'как', 'в', '—', 'к', 'на'])\n",
    "    tokens = [i for i in tokens if ( i not in stop_words )]\n",
    " \n",
    "    #cleaning words\n",
    "    tokens = [i.replace(\"«\", \"\").replace(\"»\", \"\") for i in tokens]\n",
    " \n",
    "    return tokens"
   ]
  },
  {
   "cell_type": "code",
   "execution_count": 20,
   "metadata": {},
   "outputs": [
    {
     "name": "stdout",
     "output_type": "stream",
     "text": [
      "['Текст', 'который', 'нам', 'нужно', 'разбить', 'токены']\n"
     ]
    }
   ],
   "source": [
    "print(tokenize('Текст который нам нужно разбить на токены.'))"
   ]
  },
  {
   "cell_type": "markdown",
   "metadata": {},
   "source": [
    "#### Лемматизируем текст"
   ]
  },
  {
   "cell_type": "markdown",
   "metadata": {},
   "source": [
    "Для чего? <br/>\n",
    "Нужно избавиться от словоформ, чтобы снизить размерность словарей"
   ]
  },
  {
   "cell_type": "code",
   "execution_count": 21,
   "metadata": {
    "collapsed": true
   },
   "outputs": [],
   "source": [
    "import pymorphy2\n",
    "morph = pymorphy2.MorphAnalyzer()\n",
    "def text_lemmatizer(text):\n",
    "    lem_array = []\n",
    "    for word in tokenize(text):\n",
    "        word_info = morph.parse(word)[0]\n",
    "        lem_array.append(f'{word_info.normal_form}_{word_info.tag.POS}')\n",
    "    return ' '.join(lem_array)"
   ]
  },
  {
   "cell_type": "code",
   "execution_count": 22,
   "metadata": {},
   "outputs": [
    {
     "data": {
      "text/plain": [
       "'привет_NOUN весь_ADJF слушатель_NOUN конференция_NOUN улыбнуться_VERB спать_VERB'"
      ]
     },
     "execution_count": 22,
     "metadata": {},
     "output_type": "execute_result"
    }
   ],
   "source": [
    "text_lemmatizer('Привет всем слушателям конференции! Улыбнитесь если не спите!')"
   ]
  },
  {
   "cell_type": "markdown",
   "metadata": {},
   "source": [
    "#### Лемматизируем корпус"
   ]
  },
  {
   "cell_type": "code",
   "execution_count": 23,
   "metadata": {},
   "outputs": [
    {
     "name": "stdout",
     "output_type": "stream",
     "text": [
      "Wall time: 14.9 s\n"
     ]
    }
   ],
   "source": [
    "%%time\n",
    "df['lem_title'] = df['title'].apply(text_lemmatizer)"
   ]
  },
  {
   "cell_type": "code",
   "execution_count": 24,
   "metadata": {},
   "outputs": [
    {
     "data": {
      "text/html": [
       "<div>\n",
       "<style>\n",
       "    .dataframe thead tr:only-child th {\n",
       "        text-align: right;\n",
       "    }\n",
       "\n",
       "    .dataframe thead th {\n",
       "        text-align: left;\n",
       "    }\n",
       "\n",
       "    .dataframe tbody tr th {\n",
       "        vertical-align: top;\n",
       "    }\n",
       "</style>\n",
       "<table border=\"1\" class=\"dataframe\">\n",
       "  <thead>\n",
       "    <tr style=\"text-align: right;\">\n",
       "      <th></th>\n",
       "      <th>title</th>\n",
       "      <th>tag</th>\n",
       "      <th>lem_title</th>\n",
       "    </tr>\n",
       "  </thead>\n",
       "  <tbody>\n",
       "    <tr>\n",
       "      <th>2219</th>\n",
       "      <td>\"Первый\" оказался акционером самого популярног...</td>\n",
       "      <td>economics</td>\n",
       "      <td>``_None один_ADJF ''_None оказаться_VERB акцио...</td>\n",
       "    </tr>\n",
       "    <tr>\n",
       "      <th>1346</th>\n",
       "      <td>Британцы доверяют BBC больше, чем Блэру.</td>\n",
       "      <td>media</td>\n",
       "      <td>британец_NOUN доверять_VERB bbc_None блэр_NOUN</td>\n",
       "    </tr>\n",
       "    <tr>\n",
       "      <th>1225</th>\n",
       "      <td>Питерский интернет оказался дешевле московского.</td>\n",
       "      <td>media</td>\n",
       "      <td>питерский_ADJF интернет_NOUN оказаться_VERB де...</td>\n",
       "    </tr>\n",
       "    <tr>\n",
       "      <th>5948</th>\n",
       "      <td>Победительница \"Евровидения\" будет защищать св...</td>\n",
       "      <td>culture</td>\n",
       "      <td>победительница_NOUN ``_None евровидение_NOUN '...</td>\n",
       "    </tr>\n",
       "    <tr>\n",
       "      <th>4871</th>\n",
       "      <td>Физики приступили к повторению скандального эк...</td>\n",
       "      <td>science</td>\n",
       "      <td>физика_NOUN приступить_VERB повторение_NOUN ск...</td>\n",
       "    </tr>\n",
       "  </tbody>\n",
       "</table>\n",
       "</div>"
      ],
      "text/plain": [
       "                                                  title        tag  \\\n",
       "2219  \"Первый\" оказался акционером самого популярног...  economics   \n",
       "1346          Британцы доверяют BBC больше, чем Блэру.       media   \n",
       "1225  Питерский интернет оказался дешевле московского.       media   \n",
       "5948  Победительница \"Евровидения\" будет защищать св...    culture   \n",
       "4871  Физики приступили к повторению скандального эк...    science   \n",
       "\n",
       "                                              lem_title  \n",
       "2219  ``_None один_ADJF ''_None оказаться_VERB акцио...  \n",
       "1346     британец_NOUN доверять_VERB bbc_None блэр_NOUN  \n",
       "1225  питерский_ADJF интернет_NOUN оказаться_VERB де...  \n",
       "5948  победительница_NOUN ``_None евровидение_NOUN '...  \n",
       "4871  физика_NOUN приступить_VERB повторение_NOUN ск...  "
      ]
     },
     "execution_count": 24,
     "metadata": {},
     "output_type": "execute_result"
    }
   ],
   "source": [
    "df.sample(n=5)"
   ]
  },
  {
   "cell_type": "code",
   "execution_count": 12,
   "metadata": {
    "collapsed": true
   },
   "outputs": [],
   "source": [
    "# df.to_csv('lenta_1000_lem.csv', encoding='utf-8') # Сохраняем результат"
   ]
  },
  {
   "cell_type": "markdown",
   "metadata": {},
   "source": [
    "#### Закодируем текстовое описание категории в лейблы"
   ]
  },
  {
   "cell_type": "code",
   "execution_count": 25,
   "metadata": {
    "collapsed": true
   },
   "outputs": [],
   "source": [
    "count_tags = len(df.tag.value_counts().index.values)\n",
    "tags = df.tag.value_counts().index.values\n",
    "\n",
    "lableEnc = LabelEncoder()\n",
    "lableEnc.fit(tags) \n",
    "lables = lableEnc.transform(tags).reshape((count_tags, 1))\n",
    "\n",
    "def tag_to_lable(tag):\n",
    "    return lableEnc.transform([tag])[0]\n",
    "\n",
    "df['y'] = df['tag'].apply(tag_to_lable)"
   ]
  },
  {
   "cell_type": "code",
   "execution_count": 26,
   "metadata": {},
   "outputs": [
    {
     "data": {
      "text/html": [
       "<div>\n",
       "<style>\n",
       "    .dataframe thead tr:only-child th {\n",
       "        text-align: right;\n",
       "    }\n",
       "\n",
       "    .dataframe thead th {\n",
       "        text-align: left;\n",
       "    }\n",
       "\n",
       "    .dataframe tbody tr th {\n",
       "        vertical-align: top;\n",
       "    }\n",
       "</style>\n",
       "<table border=\"1\" class=\"dataframe\">\n",
       "  <thead>\n",
       "    <tr style=\"text-align: right;\">\n",
       "      <th></th>\n",
       "      <th>title</th>\n",
       "      <th>tag</th>\n",
       "      <th>lem_title</th>\n",
       "      <th>y</th>\n",
       "    </tr>\n",
       "  </thead>\n",
       "  <tbody>\n",
       "    <tr>\n",
       "      <th>6024</th>\n",
       "      <td>Путин связал гей-парады с демографической проб...</td>\n",
       "      <td>life</td>\n",
       "      <td>путин_NOUN связать_VERB гея-парад_NOUN демогра...</td>\n",
       "      <td>2</td>\n",
       "    </tr>\n",
       "    <tr>\n",
       "      <th>2282</th>\n",
       "      <td>История одного дефицита. В аэропортах РФ исчез...</td>\n",
       "      <td>economics</td>\n",
       "      <td>история_NOUN один_ADJF дефицит_NOUN в_PREP аэр...</td>\n",
       "      <td>1</td>\n",
       "    </tr>\n",
       "    <tr>\n",
       "      <th>6069</th>\n",
       "      <td>Шведскому школьнику запретили наряжаться в кос...</td>\n",
       "      <td>life</td>\n",
       "      <td>шведский_ADJF школьник_NOUN запретить_VERB нар...</td>\n",
       "      <td>2</td>\n",
       "    </tr>\n",
       "    <tr>\n",
       "      <th>3848</th>\n",
       "      <td>ЦСКА заплатил миллиард рублей за землю под ста...</td>\n",
       "      <td>sport</td>\n",
       "      <td>цска_NOUN заплатить_VERB миллиард_NOUN рубль_N...</td>\n",
       "      <td>5</td>\n",
       "    </tr>\n",
       "    <tr>\n",
       "      <th>867</th>\n",
       "      <td>Жителям \"дальнего зарубежья\" облегчили въезд н...</td>\n",
       "      <td>world</td>\n",
       "      <td>житель_NOUN ``_None дальний_ADJF зарубежье_NOU...</td>\n",
       "      <td>6</td>\n",
       "    </tr>\n",
       "  </tbody>\n",
       "</table>\n",
       "</div>"
      ],
      "text/plain": [
       "                                                  title        tag  \\\n",
       "6024  Путин связал гей-парады с демографической проб...       life   \n",
       "2282  История одного дефицита. В аэропортах РФ исчез...  economics   \n",
       "6069  Шведскому школьнику запретили наряжаться в кос...       life   \n",
       "3848  ЦСКА заплатил миллиард рублей за землю под ста...      sport   \n",
       "867   Жителям \"дальнего зарубежья\" облегчили въезд н...      world   \n",
       "\n",
       "                                              lem_title  y  \n",
       "6024  путин_NOUN связать_VERB гея-парад_NOUN демогра...  2  \n",
       "2282  история_NOUN один_ADJF дефицит_NOUN в_PREP аэр...  1  \n",
       "6069  шведский_ADJF школьник_NOUN запретить_VERB нар...  2  \n",
       "3848  цска_NOUN заплатить_VERB миллиард_NOUN рубль_N...  5  \n",
       "867   житель_NOUN ``_None дальний_ADJF зарубежье_NOU...  6  "
      ]
     },
     "execution_count": 26,
     "metadata": {},
     "output_type": "execute_result"
    }
   ],
   "source": [
    "df.sample(n=5)"
   ]
  },
  {
   "cell_type": "markdown",
   "metadata": {},
   "source": [
    "### Model №1 TF-IDF + LOGIT"
   ]
  },
  {
   "cell_type": "markdown",
   "metadata": {},
   "source": [
    "### Bag of words"
   ]
  },
  {
   "cell_type": "markdown",
   "metadata": {},
   "source": [
    "Мешок слов (или Bag of Words) это модель текстов на натуральном языке, в которой каждый документ или текст выглядит как неупорядоченный набор слов без сведений о связях между ними. Его можно представить в виде матрицы, каждая строка в которой соответствует отдельному документу или тексту, а каждый столбец — определенному слову. Ячейка на пересечении строки и столбца содержит количество вхождений слова в соответствующий документ."
   ]
  },
  {
   "cell_type": "markdown",
   "metadata": {},
   "source": [
    "<img src=\"http://slideplayer.com/7073400/24/images/15/The+Bag+of+Words+Representation.jpg\" alt=\"Robot reads book\" style=\"width: 700px;\"/>"
   ]
  },
  {
   "cell_type": "markdown",
   "metadata": {},
   "source": [
    "#### Какие слова будут самыми частотными?"
   ]
  },
  {
   "cell_type": "markdown",
   "metadata": {},
   "source": [
    "### TF-IDF\n",
    "TF-IDF - статистическая мера, используемая для оценки важности слова в контексте документа, являющегося частью коллекции документов или корпуса. Вес некоторого слова пропорционален количеству употребления этого слова в документе, и обратно пропорционален частоте употребления слова в других документах коллекции."
   ]
  },
  {
   "cell_type": "markdown",
   "metadata": {},
   "source": [
    "\n",
    "$$ tf_{i,j} = \\frac{n_{i,j}}{\\sum_k n_{k,j}} $$\n",
    "\n",
    "$$ idf_i = \\mbox{log} \\frac{|D|}{|{d : t_i \\in d}|} $$\n",
    "\n",
    "$$ tfidf_{i,j} = tf_{i,j} * idf_{i}$$"
   ]
  },
  {
   "cell_type": "markdown",
   "metadata": {},
   "source": [
    "**Корпус:** <br/>\n",
    "[\"очень\", \"очень\", \"важный\", \"текст\", \"про\", \"it\"] <br/>\n",
    "[\"текст\", \"про\", \"челябинск\"] <br/>\n",
    "<br/>\n",
    "**Создаем \"мешок слов\":** <br/>\n",
    "{ \"очень\": 1, \"важный\": 1, \"текст\": 2, \"про\": 2, \"it\": 1, \"челябинск\": 1 } <br/>\n",
    "<br/>\n",
    "**Считаем IDF каждого слова:** <br/>\n",
    "{ \"очень\": 0.3, \"важный\": 0.3, \"текст\": 0, \"про\": 0, \"it\": 0.3, \"челябинск\": 0.3 } <br/>\n",
    " <br/>\n",
    "**Получаем вектора для текстов:** <br/>\n",
    "[0.6, 0.3, 0.0, 0.0, 0.3, 0.0] <br/>\n",
    "[0.0, 0.0, 0.0, 0.0, 0.0, 0.3]"
   ]
  },
  {
   "cell_type": "code",
   "execution_count": 27,
   "metadata": {
    "collapsed": true
   },
   "outputs": [],
   "source": [
    "from sklearn.feature_extraction.text import TfidfVectorizer\n",
    "from sklearn.linear_model import LogisticRegression\n",
    "from sklearn.metrics import classification_report\n",
    "from sklearn.metrics import accuracy_score"
   ]
  },
  {
   "cell_type": "code",
   "execution_count": 29,
   "metadata": {},
   "outputs": [
    {
     "name": "stdout",
     "output_type": "stream",
     "text": [
      "Wall time: 153 ms\n"
     ]
    }
   ],
   "source": [
    "%%time\n",
    "tfidf_vectorizer = TfidfVectorizer(lowercase=True, max_features=10000)\n",
    "tfidf_vectors = tfidf_vectorizer.fit_transform(df['lem_title'].values)"
   ]
  },
  {
   "cell_type": "code",
   "execution_count": 37,
   "metadata": {
    "collapsed": true
   },
   "outputs": [],
   "source": [
    "X_train, X_test, y_train, y_test = train_test_split(tfidf_vectors, df['y'], test_size=0.2, random_state=42)"
   ]
  },
  {
   "cell_type": "markdown",
   "metadata": {},
   "source": [
    "### logistics regression\n",
    "<img src=\"https://habrastorage.org/files/77b/af8/55c/77baf855c84a4ba9a851060ec7ae6ec8.png\" alt=\"Logit\" style=\"width: 300px; float: center;\"/>\n",
    "\n",
    "Теория по линейным моделям классификации: <br/>\n",
    "https://habrahabr.ru/company/ods/blog/323890/ <br/>\n",
    "https://www.youtube.com/watch?v=HZEWIjEQ9A8 <br/>"
   ]
  },
  {
   "cell_type": "code",
   "execution_count": 38,
   "metadata": {},
   "outputs": [
    {
     "name": "stdout",
     "output_type": "stream",
     "text": [
      "Wall time: 431 ms\n"
     ]
    }
   ],
   "source": [
    "%%time\n",
    "logit = LogisticRegression(n_jobs=-1, random_state=42, multi_class='multinomial', solver='saga')\n",
    "logit.fit(X_train, y_train)"
   ]
  },
  {
   "cell_type": "code",
   "execution_count": 39,
   "metadata": {
    "collapsed": true
   },
   "outputs": [],
   "source": [
    "y_pred = logit.predict(X_test)"
   ]
  },
  {
   "cell_type": "code",
   "execution_count": 40,
   "metadata": {},
   "outputs": [
    {
     "data": {
      "text/plain": [
       "0.69928571428571429"
      ]
     },
     "execution_count": 40,
     "metadata": {},
     "output_type": "execute_result"
    }
   ],
   "source": [
    "accuracy_score(y_test, y_pred)"
   ]
  },
  {
   "cell_type": "code",
   "execution_count": 41,
   "metadata": {},
   "outputs": [
    {
     "name": "stdout",
     "output_type": "stream",
     "text": [
      "             precision    recall  f1-score   support\n",
      "\n",
      "    culture       0.70      0.64      0.67       211\n",
      "  economics       0.73      0.75      0.74       178\n",
      "       life       0.48      0.67      0.56       186\n",
      "      media       0.84      0.64      0.73       224\n",
      "    science       0.65      0.70      0.67       183\n",
      "      sport       0.91      0.83      0.87       215\n",
      "      world       0.69      0.66      0.68       203\n",
      "\n",
      "avg / total       0.72      0.70      0.70      1400\n",
      "\n"
     ]
    }
   ],
   "source": [
    "print(classification_report(y_test, y_pred, target_names=lableEnc.classes_))"
   ]
  },
  {
   "cell_type": "markdown",
   "metadata": {},
   "source": [
    "#### Интерпретируем модель"
   ]
  },
  {
   "cell_type": "code",
   "execution_count": 42,
   "metadata": {
    "collapsed": true
   },
   "outputs": [],
   "source": [
    "id2word_tfidf = {y:x for x, y in tfidf_vectorizer.vocabulary_.items()}"
   ]
  },
  {
   "cell_type": "code",
   "execution_count": 45,
   "metadata": {
    "scrolled": true
   },
   "outputs": [
    {
     "data": {
      "text/plain": [
       "[('в_prep', 2.8391047625318073),\n",
       " ('житель_noun', 2.4436032888690256),\n",
       " ('собака_noun', 2.1280665551799958),\n",
       " ('британский_adjf', 2.0148087617914312),\n",
       " ('британец_noun', 1.8561636769992869),\n",
       " ('американец_noun', 1.8373490701693225),\n",
       " ('жительница_noun', 1.8314514949825789),\n",
       " ('медведь_noun', 1.6625378398250059),\n",
       " ('зоопарк_noun', 1.6095221649947054),\n",
       " ('школьник_noun', 1.5182682750950156),\n",
       " ('грабитель_noun', 1.4954756792323431),\n",
       " ('фунт_noun', 1.4880874893333094),\n",
       " ('австралийский_adjf', 1.4560937869672066),\n",
       " ('запретить_verb', 1.4313077993717405),\n",
       " ('принц_noun', 1.2923638526747343)]"
      ]
     },
     "execution_count": 45,
     "metadata": {},
     "output_type": "execute_result"
    }
   ],
   "source": [
    "tag_id_for_impotence = 2\n",
    "dict_word_weight = {id2word_tfidf[index]:value for index, value in enumerate(logit.coef_[tag_id_for_impotence])}\n",
    "sorted(dict_word_weight.items(), key=lambda x: x[1], reverse=True)[:15]"
   ]
  },
  {
   "cell_type": "code",
   "execution_count": 47,
   "metadata": {},
   "outputs": [
    {
     "name": "stdout",
     "output_type": "stream",
     "text": [
      "Текст новости: крокодил_NOUN утонуть_VERB\n",
      "Категория: life\n"
     ]
    }
   ],
   "source": [
    "# my_news = text_lemmatizer('чемпионат мира по футболу скоро начнется')\n",
    "my_news = text_lemmatizer('крокодил утонул')\n",
    "print('Текст новости:', my_news)\n",
    "query_vector = tfidf_vectorizer.transform([my_news])\n",
    "lable = logit.predict(query_vector)\n",
    "print('Категория:', lableEnc.inverse_transform(lable)[0])"
   ]
  },
  {
   "cell_type": "markdown",
   "metadata": {},
   "source": [
    "### Average Word2Vec\n",
    "<img src=\"http://www.samyzaf.com/ML/nlp/word2vec2.png\" alt=\"Word2Vec\" style=\"width: 600px; float: center;\"/>\n",
    "\n",
    "Какие слова являются близкими? Слова которые находятся в одинаковых контекстах: <br/>\n",
    "- My name is **Ivan**\n",
    "- My name is **Vasya**\n",
    "\n",
    "Библиотека для работы с Word2Vec: https://radimrehurek.com/gensim/ <br/>\n",
    "Примеры применения: https://habrahabr.ru/post/249215/ <br/>"
   ]
  },
  {
   "cell_type": "code",
   "execution_count": 48,
   "metadata": {},
   "outputs": [
    {
     "name": "stderr",
     "output_type": "stream",
     "text": [
      "C:\\Program Files\\Anaconda3\\lib\\site-packages\\gensim\\utils.py:865: UserWarning: detected Windows; aliasing chunkize to chunkize_serial\n",
      "  warnings.warn(\"detected Windows; aliasing chunkize to chunkize_serial\")\n",
      "Using TensorFlow backend.\n"
     ]
    }
   ],
   "source": [
    "import gensim # Библиотека для работы с word2vec моделью"
   ]
  },
  {
   "cell_type": "code",
   "execution_count": 49,
   "metadata": {
    "collapsed": true
   },
   "outputs": [],
   "source": [
    "def transform(word2vec, X): # Получаем средний вектор текста\n",
    "        return np.array([np.mean([word2vec[word] for word in sent.split() if word in word2vec] or \n",
    "                                 [np.zeros(w2v_model.vector_size)], axis=0)\n",
    "                         for sent in X])"
   ]
  },
  {
   "cell_type": "code",
   "execution_count": 50,
   "metadata": {
    "collapsed": true
   },
   "outputs": [],
   "source": [
    "# Готовые модели на http://rusvectores.org/ru/models/\n",
    "\n",
    "w2v_model = gensim.models.KeyedVectors.load_word2vec_format('news_upos_cbow_300_2_2017.bin.gz', binary=True)"
   ]
  },
  {
   "cell_type": "code",
   "execution_count": 58,
   "metadata": {
    "scrolled": true
   },
   "outputs": [
    {
     "data": {
      "text/plain": [
       "[('java_NOUN', 0.5850426554679871),\n",
       " ('жестовый_ADJ', 0.5694636702537537),\n",
       " ('конструирование_NOUN', 0.5468485355377197),\n",
       " ('с++_ADP', 0.5432599782943726),\n",
       " ('python_NOUN', 0.5334511995315552),\n",
       " ('овладение_NOUN', 0.518364667892456),\n",
       " ('алгебра_NOUN', 0.5097358226776123),\n",
       " ('математика_NOUN', 0.5067651271820068),\n",
       " ('грамматика_NOUN', 0.4981633126735687),\n",
       " ('фонетика_NOUN', 0.49305155873298645)]"
      ]
     },
     "execution_count": 58,
     "metadata": {},
     "output_type": "execute_result"
    }
   ],
   "source": [
    "w2v_model.wv.most_similar([text_lemmatizer('программирование')])"
   ]
  },
  {
   "cell_type": "code",
   "execution_count": 60,
   "metadata": {},
   "outputs": [
    {
     "data": {
      "text/plain": [
       "array([ 0.04389913,  0.04969439,  0.01131523,  0.05055235, -0.01505083,\n",
       "       -0.01851326,  0.00116124,  0.01124259, -0.00198699,  0.0522025 ,\n",
       "        0.01348074, -0.01333514, -0.01806038, -0.0609141 ,  0.02461834,\n",
       "       -0.06367848,  0.10169261, -0.07768203, -0.02433448, -0.07384581,\n",
       "        0.03761868,  0.01161451, -0.01443931,  0.08855998, -0.06606267,\n",
       "       -0.0021417 ,  0.04681213,  0.01876524,  0.07383426, -0.0445784 ,\n",
       "       -0.03859865,  0.0412984 ,  0.05913375,  0.06118985, -0.01564277,\n",
       "        0.05718092,  0.02545856, -0.06225495, -0.02749394, -0.06838837,\n",
       "        0.03244919, -0.01714013, -0.05363512, -0.03661439,  0.05361873,\n",
       "       -0.08643156, -0.01981001, -0.03269866, -0.00086385, -0.06077063], dtype=float32)"
      ]
     },
     "execution_count": 60,
     "metadata": {},
     "output_type": "execute_result"
    }
   ],
   "source": [
    "w2v_model['java_NOUN'][:50]"
   ]
  },
  {
   "cell_type": "code",
   "execution_count": 61,
   "metadata": {},
   "outputs": [
    {
     "name": "stdout",
     "output_type": "stream",
     "text": [
      "Wall time: 326 ms\n"
     ]
    }
   ],
   "source": [
    "%%time\n",
    "w2v_vectors = transform(w2v_model, df['lem_title'])"
   ]
  },
  {
   "cell_type": "code",
   "execution_count": 62,
   "metadata": {
    "collapsed": true
   },
   "outputs": [],
   "source": [
    "X_train, X_test, y_train, y_test = train_test_split(w2v_vectors, df['y'], test_size=0.2, random_state=42)"
   ]
  },
  {
   "cell_type": "code",
   "execution_count": 63,
   "metadata": {},
   "outputs": [
    {
     "name": "stdout",
     "output_type": "stream",
     "text": [
      "Wall time: 2.94 s\n"
     ]
    }
   ],
   "source": [
    "%%time\n",
    "logit = LogisticRegression(n_jobs=-1, random_state=42, multi_class='multinomial', solver='saga')\n",
    "logit.fit(X_train, y_train)"
   ]
  },
  {
   "cell_type": "code",
   "execution_count": 64,
   "metadata": {
    "collapsed": true
   },
   "outputs": [],
   "source": [
    "y_pred = logit.predict(X_test)"
   ]
  },
  {
   "cell_type": "code",
   "execution_count": 65,
   "metadata": {
    "scrolled": true
   },
   "outputs": [
    {
     "data": {
      "text/plain": [
       "0.69785714285714284"
      ]
     },
     "execution_count": 65,
     "metadata": {},
     "output_type": "execute_result"
    }
   ],
   "source": [
    "accuracy_score(y_test, y_pred)"
   ]
  },
  {
   "cell_type": "code",
   "execution_count": 66,
   "metadata": {},
   "outputs": [
    {
     "name": "stdout",
     "output_type": "stream",
     "text": [
      "             precision    recall  f1-score   support\n",
      "\n",
      "    culture       0.74      0.73      0.73       211\n",
      "  economics       0.70      0.85      0.76       178\n",
      "       life       0.57      0.58      0.57       186\n",
      "      media       0.75      0.57      0.65       224\n",
      "    science       0.59      0.63      0.61       183\n",
      "      sport       0.88      0.85      0.86       215\n",
      "      world       0.66      0.68      0.67       203\n",
      "\n",
      "avg / total       0.70      0.70      0.70      1400\n",
      "\n"
     ]
    }
   ],
   "source": [
    "print(classification_report(y_test, y_pred, target_names=lableEnc.classes_))"
   ]
  },
  {
   "cell_type": "markdown",
   "metadata": {},
   "source": [
    "## Deep Learning for Text Classification"
   ]
  },
  {
   "cell_type": "markdown",
   "metadata": {},
   "source": [
    "### CNN + CHAR N GRAMS"
   ]
  },
  {
   "cell_type": "markdown",
   "metadata": {},
   "source": [
    "#### Кодировка текста\n",
    "**Корпус**<br/>\n",
    "[\"очень, очень важный текст про it\"]<br/> \n",
    "[\"текст  про челябинск\"]<br/>\n",
    "<br/>\n",
    "**Создаем \"мешок грам\"**: <br/>\n",
    "{ \"оче\": 0, \"чен\": 1, \"ень\": 2, \"нь,\": 3, \"ь, \": 4, \", о\": 5, .... }<br/> \n",
    "<br/>\n",
    "**Получаем вектора для текста**<br/>\n",
    "[0, 1, 2, 3, 4, 5, ....]<br/>\n",
    "[10, 11, 4, 5, 11, ....]<br/>"
   ]
  },
  {
   "cell_type": "code",
   "execution_count": 67,
   "metadata": {
    "collapsed": true
   },
   "outputs": [],
   "source": [
    "from sklearn.feature_extraction.text import CountVectorizer\n",
    "from keras.preprocessing.text import Tokenizer"
   ]
  },
  {
   "cell_type": "code",
   "execution_count": 68,
   "metadata": {
    "collapsed": true
   },
   "outputs": [],
   "source": [
    "import keras\n",
    "from keras.models import Sequential\n",
    "from keras.layers import Dense, Activation, Embedding, TimeDistributed, Bidirectional\n",
    "from keras.layers import LSTM, SpatialDropout1D, Conv1D, GlobalMaxPooling1D, MaxPooling1D, Flatten"
   ]
  },
  {
   "cell_type": "code",
   "execution_count": 69,
   "metadata": {
    "collapsed": true
   },
   "outputs": [],
   "source": [
    "def texts2ngrams(texts, n=3, lowercase=True):\n",
    "    \"\"\" Convert text into character ngrams. \"\"\"\n",
    "    vectors = []\n",
    "    dict_grams = {}\n",
    "    char_index = 0\n",
    "    for text in texts:\n",
    "        if lowercase:\n",
    "            text = text.lower()\n",
    "        vector = []\n",
    "        grams_for_text = [\"\".join(j) for j in zip(*[text[i:] for i in range(n)])]\n",
    "        for gram in grams_for_text:\n",
    "            if gram in dict_grams:\n",
    "                vector.append(dict_grams[gram])\n",
    "            else:\n",
    "                dict_grams[gram] = char_index\n",
    "                vector.append(char_index)\n",
    "                char_index += 1\n",
    "        vectors.append(vector)\n",
    "    count_grams = len(dict_grams)\n",
    "    print('Количество уникальных ngrams:', count_grams)\n",
    "    return vectors, count_grams"
   ]
  },
  {
   "cell_type": "code",
   "execution_count": 70,
   "metadata": {
    "collapsed": true
   },
   "outputs": [],
   "source": [
    "def print_plot_mean(x):\n",
    "    lens = [len(y) for y in x]\n",
    "    print('Max len:', max(lens))\n",
    "    plt.plot(lens);"
   ]
  },
  {
   "cell_type": "code",
   "execution_count": 71,
   "metadata": {
    "scrolled": true
   },
   "outputs": [
    {
     "name": "stdout",
     "output_type": "stream",
     "text": [
      "Количество уникальных ngrams: 14306\n",
      "Wall time: 289 ms\n"
     ]
    }
   ],
   "source": [
    "%%time\n",
    "gram_vectors, count_grams = texts2ngrams(df['title'])"
   ]
  },
  {
   "cell_type": "code",
   "execution_count": 72,
   "metadata": {
    "collapsed": true
   },
   "outputs": [],
   "source": [
    "X = keras.preprocessing.sequence.pad_sequences(gram_vectors, maxlen=150)     \n",
    "y = keras.utils.to_categorical(df['y'], count_tags)"
   ]
  },
  {
   "cell_type": "code",
   "execution_count": 73,
   "metadata": {},
   "outputs": [
    {
     "data": {
      "text/plain": [
       "array([   0,    0,    0,    0,    0,    0,    0,    0,    0,    0,    0,\n",
       "          0,    0,    0,    0,    0,    0,    0,    0,    0,    0,    0,\n",
       "          0,    0,    0,    0,    0,    0,    0,    0,    0,    0,    0,\n",
       "          0,    0,    0,    0,    0,    0,    0,    0,    0,    0,    0,\n",
       "          0,    0,    0,    0,    0,    0,    0,    0,    0,    0,    0,\n",
       "          0,    0,    0,    0,    0,    0,    0,    0,    0,    0,    0,\n",
       "          0,    0,    0,    0,    0,    0,    0,    0,    0,    0,    0,\n",
       "          0,    0,    0,    0,    0,    0, 2919, 2293,  513,  254, 1305,\n",
       "       2793, 2314,  877, 1030,  974,  901,  585,    2, 2572, 1978, 2260,\n",
       "       2920,  321,  247,  248,  249,  250, 1614,  480, 1529,  191, 1151,\n",
       "        877, 2921,  162,  803,    1,  972,   80,   81,  406, 2922,  283,\n",
       "       1729,  480, 1730, 1731, 1732, 1733, 2724, 2110,  475,  476,  477,\n",
       "        478, 2923, 2924, 2925, 2420, 2423, 2424,  422,  401, 2403, 1917,\n",
       "       1654, 1655, 1656,  476,  657, 2663, 1471])"
      ]
     },
     "execution_count": 73,
     "metadata": {},
     "output_type": "execute_result"
    }
   ],
   "source": [
    "X[155]"
   ]
  },
  {
   "cell_type": "code",
   "execution_count": 74,
   "metadata": {},
   "outputs": [
    {
     "data": {
      "text/plain": [
       "array([ 0.,  0.,  0.,  0.,  0.,  0.,  1.])"
      ]
     },
     "execution_count": 74,
     "metadata": {},
     "output_type": "execute_result"
    }
   ],
   "source": [
    "y[155]"
   ]
  },
  {
   "cell_type": "code",
   "execution_count": 75,
   "metadata": {
    "collapsed": true
   },
   "outputs": [],
   "source": [
    "X_train, X_test, y_train, y_test = train_test_split(X, y, test_size=0.2, random_state=42)"
   ]
  },
  {
   "cell_type": "markdown",
   "metadata": {},
   "source": [
    "### Convolutional Neural Network (CNN) for Text Classification"
   ]
  },
  {
   "cell_type": "markdown",
   "metadata": {},
   "source": [
    "<img src=\"http://www.wildml.com/wp-content/uploads/2015/11/Screen-Shot-2015-11-06-at-8.03.47-AM-1024x413.png\" alt=\"Word2Vec\" style=\"width: 700px; float: center;\"/>\n",
    "Теория: https://towardsdatascience.com/understanding-how-convolutional-neural-network-cnn-perform-text-classification-with-word-d2ee64b9dd0b"
   ]
  },
  {
   "cell_type": "code",
   "execution_count": 50,
   "metadata": {
    "collapsed": true
   },
   "outputs": [],
   "source": [
    "def get_conv_model(embeding_size, num_classes):\n",
    "    model = Sequential()\n",
    "    model.add(Embedding(embeding_size, 300))\n",
    "    model.add(SpatialDropout1D(0.2))\n",
    "    model.add(Conv1D(filters=512, kernel_size=3, activation='relu'))\n",
    "    model.add(GlobalMaxPooling1D())\n",
    "    model.add(Dense(num_classes, activation=\"sigmoid\"))\n",
    "    model.compile(loss='categorical_crossentropy', optimizer='adam', metrics=['accuracy'])\n",
    "    return model"
   ]
  },
  {
   "cell_type": "code",
   "execution_count": 133,
   "metadata": {},
   "outputs": [
    {
     "name": "stdout",
     "output_type": "stream",
     "text": [
      "_________________________________________________________________\n",
      "Layer (type)                 Output Shape              Param #   \n",
      "=================================================================\n",
      "embedding_3 (Embedding)      (None, None, 300)         4291800   \n",
      "_________________________________________________________________\n",
      "spatial_dropout1d_3 (Spatial (None, None, 300)         0         \n",
      "_________________________________________________________________\n",
      "conv1d_3 (Conv1D)            (None, None, 512)         461312    \n",
      "_________________________________________________________________\n",
      "global_max_pooling1d_3 (Glob (None, 512)               0         \n",
      "_________________________________________________________________\n",
      "dense_3 (Dense)              (None, 7)                 3591      \n",
      "=================================================================\n",
      "Total params: 4,756,703\n",
      "Trainable params: 4,756,703\n",
      "Non-trainable params: 0\n",
      "_________________________________________________________________\n",
      "Train on 5600 samples, validate on 1400 samples\n",
      "Epoch 1/8\n",
      "5600/5600 [==============================] - 125s - loss: 1.8950 - acc: 0.3093 - val_loss: 1.7747 - val_acc: 0.5286\n",
      "Epoch 2/8\n",
      "5600/5600 [==============================] - 124s - loss: 1.4391 - acc: 0.6243 - val_loss: 1.1678 - val_acc: 0.6336\n",
      "Epoch 3/8\n",
      "5600/5600 [==============================] - 129s - loss: 0.8498 - acc: 0.7525 - val_loss: 0.8860 - val_acc: 0.7093\n",
      "Epoch 4/8\n",
      "5600/5600 [==============================] - 123s - loss: 0.4752 - acc: 0.8757 - val_loss: 0.8007 - val_acc: 0.7257\n",
      "Epoch 5/8\n",
      "5600/5600 [==============================] - 118s - loss: 0.2430 - acc: 0.9488 - val_loss: 0.8099 - val_acc: 0.7257\n",
      "Epoch 6/8\n",
      "5600/5600 [==============================] - 117s - loss: 0.1148 - acc: 0.9829 - val_loss: 0.8460 - val_acc: 0.7221\n",
      "Epoch 7/8\n",
      "5600/5600 [==============================] - 117s - loss: 0.0602 - acc: 0.9904 - val_loss: 0.8874 - val_acc: 0.7171\n",
      "Epoch 8/8\n",
      "5600/5600 [==============================] - 112s - loss: 0.0399 - acc: 0.9920 - val_loss: 0.9257 - val_acc: 0.7207\n",
      "Wall time: 16min 9s\n"
     ]
    }
   ],
   "source": [
    "%%time\n",
    "model = get_conv_model(embeding_size=count_grams, num_classes=count_tags)\n",
    "model.summary()\n",
    "\n",
    "BATCH_SIZE = 128\n",
    "EPOCHS = 8\n",
    "VERBOSE = 1\n",
    "\n",
    "history = model.fit(X_train, y_train,\n",
    "                    batch_size=BATCH_SIZE,\n",
    "                    epochs=EPOCHS, verbose=VERBOSE,\n",
    "                    validation_data=(X_test, y_test))"
   ]
  },
  {
   "cell_type": "code",
   "execution_count": 134,
   "metadata": {},
   "outputs": [
    {
     "name": "stdout",
     "output_type": "stream",
     "text": [
      "Точность модели составляет: 72.07142846924917\n"
     ]
    }
   ],
   "source": [
    "print('Точность модели составляет: {}'.format(model.evaluate(X_test, y_test, batch_size=64, verbose=2)[1] * 100))"
   ]
  },
  {
   "cell_type": "code",
   "execution_count": 135,
   "metadata": {},
   "outputs": [
    {
     "name": "stdout",
     "output_type": "stream",
     "text": [
      "dict_keys(['val_loss', 'val_acc', 'loss', 'acc'])\n"
     ]
    },
    {
     "data": {
      "image/png": "[encoded data removed]",
      "text/plain": [
       "<matplotlib.figure.Figure at 0x2ce54756c18>"
      ]
     },
     "metadata": {},
     "output_type": "display_data"
    },
    {
     "data": {
      "image/png": "[encoded data removed]",
      "text/plain": [
       "<matplotlib.figure.Figure at 0x2ce5427eb38>"
      ]
     },
     "metadata": {},
     "output_type": "display_data"
    }
   ],
   "source": [
    "from matplotlib import pyplot as plt\n",
    "print(history.history.keys())\n",
    "plt.plot(history.history['acc'])\n",
    "plt.plot(history.history['val_acc'])\n",
    "plt.title('model accuracy')\n",
    "plt.ylabel('accuracy')\n",
    "plt.xlabel('epoch')\n",
    "plt.legend(['train', 'valid'], loc='upper left')\n",
    "plt.show();\n",
    "# summarize history for loss\n",
    "plt.plot(history.history['loss'])\n",
    "plt.plot(history.history['val_loss'])\n",
    "plt.title('model loss')\n",
    "plt.ylabel('loss')\n",
    "plt.xlabel('epoch')\n",
    "plt.legend(['train', 'valid'], loc='upper left')\n",
    "plt.show();"
   ]
  },
  {
   "cell_type": "markdown",
   "metadata": {},
   "source": [
    "### Результаты (Accuracy)\n",
    "TF-IDF + LogIt = 69.92 <br/>\n",
    "Word2Vec + LogIt = 69.78 <br/>\n",
    "Char n-grams + CNN = 72.07 <br/>"
   ]
  },
  {
   "cell_type": "markdown",
   "metadata": {},
   "source": [
    "#### Попробуйте выполнить дома эксперементы на текстах новостей"
   ]
  }
 ],
 "metadata": {
  "kernelspec": {
   "display_name": "Python 3",
   "language": "python",
   "name": "python3"
  },
  "language_info": {
   "codemirror_mode": {
    "name": "ipython",
    "version": 3
   },
   "file_extension": ".py",
   "mimetype": "text/x-python",
   "name": "python",
   "nbconvert_exporter": "python",
   "pygments_lexer": "ipython3",
   "version": "3.6.0"
  }
 },
 "nbformat": 4,
 "nbformat_minor": 2
}
