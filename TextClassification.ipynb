{
 "cells": [
  {
   "cell_type": "markdown",
   "metadata": {},
   "source": [
    "## Классификация текстов"
   ]
  },
  {
   "cell_type": "markdown",
   "metadata": {},
   "source": [
    "<img src=\"http://vtm.e15.cz/files/imagecache/dust_filerenderer_big/upload/aktuality/ilustra_n__foto_4d0a03cf0b.jpg\" alt=\"Robot reads book\" style=\"width: 300px; float: right;\"/>"
   ]
  },
  {
   "cell_type": "markdown",
   "metadata": {},
   "source": [
    "Зачем?\n",
    "* Определение тональности обращения\n",
    "* Определение авторства текста\n",
    "* Определение спама\n",
    "* Определение намерения обращения\n",
    "* Определение категорий (тегов)"
   ]
  },
  {
   "cell_type": "markdown",
   "metadata": {},
   "source": [
    "Варианты подходов которые мы рассмотрим:\n",
    "1. TF-IDF + Logit\n",
    "1. Average W2V Vector\n",
    "1. N-Char + CNN"
   ]
  },
  {
   "cell_type": "markdown",
   "metadata": {},
   "source": [
    "### Подгоотовка данных"
   ]
  },
  {
   "cell_type": "markdown",
   "metadata": {},
   "source": [
    "Папка с данными: https://goo.gl/xJeD6V \n",
    "- lenta_10000.csv - 7 классов, 10000 новостей для каждого класса, всего 70к. новостей\n",
    "- lenta_1000.csv - 7 классов, 1000 новостей для каждого класса, всего 7к. новостей\n",
    "- lenta_1000_lem.csv - 7 классов, 1000 новостей для каждого класса, всего 7к. новостей + лемматизированный текст\n",
    "\n",
    "Список классов:\n",
    "- world\n",
    "- media\n",
    "- life\n",
    "- sport\n",
    "- science\n",
    "- economics\n",
    "- culture"
   ]
  },
  {
   "cell_type": "markdown",
   "metadata": {},
   "source": [
    "#### Импортируем необходимые библиотеки для работы"
   ]
  },
  {
   "cell_type": "code",
   "execution_count": 1,
   "metadata": {
    "collapsed": true
   },
   "outputs": [],
   "source": [
    "import numpy as np # Поддержка многомерных массивов, высокоуровневых математических функций для работы с многомерными массивами\n",
    "import pandas as pd # Библиотека для обработки и анализа данных\n",
    "from sklearn.preprocessing import LabelEncoder, OneHotEncoder # Функции для кодирования значений\n",
    "from sklearn.model_selection import train_test_split # Функция для разбиения данных на тренировочную выборку и тестовую\n",
    "from matplotlib import pyplot as plt # Библиотека для визуализации данных"
   ]
  },
  {
   "cell_type": "code",
   "execution_count": 2,
   "metadata": {
    "collapsed": true
   },
   "outputs": [],
   "source": [
    "np.random.seed(42) # Устанавливаем seed для повторяемости результатов"
   ]
  },
  {
   "cell_type": "markdown",
   "metadata": {},
   "source": [
    "#### Читаем данные"
   ]
  },
  {
   "cell_type": "code",
   "execution_count": 3,
   "metadata": {},
   "outputs": [],
   "source": [
    "# df = pd.read_csv('lenta_1000.csv', index_col=0, dtype ={'text': str, 'tag': str, 'title': str})\n",
    "df = pd.read_csv('lenta_1000_lem.csv', index_col=0, dtype ={'text': str, 'tag': str, 'title': str, 'lem_text': str})\n",
    "\n",
    "# Приводим столбцы к нужному типу данных\n",
    "df['text'] = df['text'].apply(str)\n",
    "df['tag'] = df['tag'].apply(str)\n",
    "df['title'] = df['title'].apply(str)\n",
    "df['lem_text'] = df['lem_text'].apply(str)"
   ]
  },
  {
   "cell_type": "code",
   "execution_count": 4,
   "metadata": {},
   "outputs": [
    {
     "data": {
      "text/html": [
       "<div>\n",
       "<style>\n",
       "    .dataframe thead tr:only-child th {\n",
       "        text-align: right;\n",
       "    }\n",
       "\n",
       "    .dataframe thead th {\n",
       "        text-align: left;\n",
       "    }\n",
       "\n",
       "    .dataframe tbody tr th {\n",
       "        vertical-align: top;\n",
       "    }\n",
       "</style>\n",
       "<table border=\"1\" class=\"dataframe\">\n",
       "  <thead>\n",
       "    <tr style=\"text-align: right;\">\n",
       "      <th></th>\n",
       "      <th>title</th>\n",
       "      <th>text</th>\n",
       "      <th>tag</th>\n",
       "      <th>lem_text</th>\n",
       "    </tr>\n",
       "  </thead>\n",
       "  <tbody>\n",
       "    <tr>\n",
       "      <th>0</th>\n",
       "      <td>На севере Франции из-за авиабомбы эвакуировали...</td>\n",
       "      <td>Французские власти срочно эвакуировали 1500 че...</td>\n",
       "      <td>world</td>\n",
       "      <td>французский_ADJF власть_NOUN срочно_ADVB эваку...</td>\n",
       "    </tr>\n",
       "    <tr>\n",
       "      <th>1</th>\n",
       "      <td>Пилоты Lufthansa приостановили забастовку.</td>\n",
       "      <td>Пилоты немецкой авиакомпании Lufthansa приняли...</td>\n",
       "      <td>world</td>\n",
       "      <td>пилот_NOUN немецкий_ADJF авиакомпания_NOUN luf...</td>\n",
       "    </tr>\n",
       "    <tr>\n",
       "      <th>2</th>\n",
       "      <td>В премьер-министра Турции метнули ботинок.</td>\n",
       "      <td>Премьер-министр Турции Реджеп Тайип Эрдоган, н...</td>\n",
       "      <td>world</td>\n",
       "      <td>премьер-министр_NOUN турция_NOUN реджеп_NOUN т...</td>\n",
       "    </tr>\n",
       "    <tr>\n",
       "      <th>3</th>\n",
       "      <td>Эксперты отсоветовали бундесверу приобретать н...</td>\n",
       "      <td>Эксперты сухопутных сил бундесвера раскритиков...</td>\n",
       "      <td>world</td>\n",
       "      <td>эксперт_NOUN сухопутный_ADJF сила_NOUN бундесв...</td>\n",
       "    </tr>\n",
       "    <tr>\n",
       "      <th>4</th>\n",
       "      <td>В Италии разгромили международную банду наркот...</td>\n",
       "      <td>Итальянская полиция в понедельник, 22 февраля,...</td>\n",
       "      <td>world</td>\n",
       "      <td>итальянский_ADJF полиция_NOUN понедельник_NOUN...</td>\n",
       "    </tr>\n",
       "  </tbody>\n",
       "</table>\n",
       "</div>"
      ],
      "text/plain": [
       "                                               title  \\\n",
       "0  На севере Франции из-за авиабомбы эвакуировали...   \n",
       "1        Пилоты Lufthansa приостановили забастовку.    \n",
       "2        В премьер-министра Турции метнули ботинок.    \n",
       "3  Эксперты отсоветовали бундесверу приобретать н...   \n",
       "4  В Италии разгромили международную банду наркот...   \n",
       "\n",
       "                                                text    tag  \\\n",
       "0  Французские власти срочно эвакуировали 1500 че...  world   \n",
       "1  Пилоты немецкой авиакомпании Lufthansa приняли...  world   \n",
       "2  Премьер-министр Турции Реджеп Тайип Эрдоган, н...  world   \n",
       "3  Эксперты сухопутных сил бундесвера раскритиков...  world   \n",
       "4  Итальянская полиция в понедельник, 22 февраля,...  world   \n",
       "\n",
       "                                            lem_text  \n",
       "0  французский_ADJF власть_NOUN срочно_ADVB эваку...  \n",
       "1  пилот_NOUN немецкий_ADJF авиакомпания_NOUN luf...  \n",
       "2  премьер-министр_NOUN турция_NOUN реджеп_NOUN т...  \n",
       "3  эксперт_NOUN сухопутный_ADJF сила_NOUN бундесв...  \n",
       "4  итальянский_ADJF полиция_NOUN понедельник_NOUN...  "
      ]
     },
     "execution_count": 4,
     "metadata": {},
     "output_type": "execute_result"
    }
   ],
   "source": [
    "df.head()"
   ]
  },
  {
   "cell_type": "markdown",
   "metadata": {},
   "source": [
    "#### Смотрим сколько у нас примеров для каждого класса"
   ]
  },
  {
   "cell_type": "code",
   "execution_count": 10,
   "metadata": {},
   "outputs": [
    {
     "data": {
      "text/plain": [
       "world        1000\n",
       "media        1000\n",
       "life         1000\n",
       "sport        1000\n",
       "science      1000\n",
       "economics    1000\n",
       "culture      1000\n",
       "Name: tag, dtype: int64"
      ]
     },
     "execution_count": 10,
     "metadata": {},
     "output_type": "execute_result"
    }
   ],
   "source": [
    "df.tag.value_counts()"
   ]
  },
  {
   "cell_type": "markdown",
   "metadata": {},
   "source": [
    "#### Получаем токены из текста"
   ]
  },
  {
   "cell_type": "markdown",
   "metadata": {},
   "source": [
    "Для чего?"
   ]
  },
  {
   "cell_type": "markdown",
   "metadata": {},
   "source": [
    "- Нужно разбить текст на слова\n",
    "- Нужно удалить пунктуацию\n",
    "- Нужно удалить стоп слова\n",
    "\n",
    "Текст: \"Тут очень большой и очень, очень крутой текст который нам нужно разбить на токены.\" <br/>\n",
    "Токены: \"тут\", \"очень\", \"большой\", \"очень\", \"очень\", \"крутой\", \"текст\", \"который\", \"нужно\", \"разбить\", \"токены\" "
   ]
  },
  {
   "cell_type": "code",
   "execution_count": 5,
   "metadata": {},
   "outputs": [],
   "source": [
    "import nltk\n",
    "import string\n",
    "from nltk.corpus import stopwords\n",
    "\n",
    "# nltk.download('punkt') # Скачать словарь пунктуации\n",
    "# nltk.download('stopwords') # Скачать словарь стоп слов\n",
    "\n",
    "# nltk.download() # Скачиваем словари для работы NLTK\n",
    "# Выполняем в консоле \"python -m nltk.downloader all\"\n",
    " \n",
    "def tokenize_me(file_text):\n",
    "    #firstly let's apply nltk tokenization\n",
    "    tokens = nltk.word_tokenize(file_text)\n",
    " \n",
    "    #let's delete punctuation symbols\n",
    "    tokens = [i for i in tokens if ( i not in string.punctuation )]\n",
    " \n",
    "    #deleting stop_words\n",
    "    stop_words = stopwords.words('russian')\n",
    "    stop_words.extend(['что', 'это', 'так', 'вот', 'быть', 'как', 'в', '—', 'к', 'на'])\n",
    "    tokens = [i for i in tokens if ( i not in stop_words )]\n",
    " \n",
    "    #cleaning words\n",
    "    tokens = [i.replace(\"«\", \"\").replace(\"»\", \"\") for i in tokens]\n",
    " \n",
    "    return tokens"
   ]
  },
  {
   "cell_type": "code",
   "execution_count": 6,
   "metadata": {},
   "outputs": [
    {
     "data": {
      "text/plain": [
       "['Тут',\n",
       " 'очень',\n",
       " 'большой',\n",
       " 'очень',\n",
       " 'очень',\n",
       " 'крутой',\n",
       " 'текст',\n",
       " 'который',\n",
       " 'нам',\n",
       " 'нужно',\n",
       " 'разбить',\n",
       " 'токены']"
      ]
     },
     "execution_count": 6,
     "metadata": {},
     "output_type": "execute_result"
    }
   ],
   "source": [
    "tokenize_me('Тут очень большой и очень, очень крутой текст который нам нужно разбить на токены.')"
   ]
  },
  {
   "cell_type": "markdown",
   "metadata": {},
   "source": [
    "#### Лемматизируем текст"
   ]
  },
  {
   "cell_type": "markdown",
   "metadata": {},
   "source": [
    "Для чего? <br/>\n",
    "Нужно избавиться от словоформ, чтобы снизить размерность словарей"
   ]
  },
  {
   "cell_type": "code",
   "execution_count": 8,
   "metadata": {
    "collapsed": true
   },
   "outputs": [],
   "source": [
    "import pymorphy2\n",
    "morph = pymorphy2.MorphAnalyzer()\n",
    "def text_lemmatizer(text):\n",
    "    lem_array = []\n",
    "    for word in tokenize_me(text):\n",
    "        word_info = morph.parse(word)[0]\n",
    "        lem_array.append(f'{word_info.normal_form}_{word_info.tag.POS}')\n",
    "    return ' '.join(lem_array)"
   ]
  },
  {
   "cell_type": "code",
   "execution_count": 9,
   "metadata": {},
   "outputs": [
    {
     "data": {
      "text/plain": [
       "'привет_NOUN весь_ADJF слушатель_NOUN конференция_NOUN улыбнуться_VERB спать_VERB'"
      ]
     },
     "execution_count": 9,
     "metadata": {},
     "output_type": "execute_result"
    }
   ],
   "source": [
    "text_lemmatizer('Привет всем слушателям конференции! Улыбнитесь если не спите!')"
   ]
  },
  {
   "cell_type": "markdown",
   "metadata": {},
   "source": [
    "#### Лемматизируем весь корпус"
   ]
  },
  {
   "cell_type": "code",
   "execution_count": 34,
   "metadata": {},
   "outputs": [
    {
     "name": "stdout",
     "output_type": "stream",
     "text": [
      "Wall time: 5min 1s\n"
     ]
    }
   ],
   "source": [
    "# %%time\n",
    "# df['lem_text'] = df['text'].apply(text_lemmatizer)"
   ]
  },
  {
   "cell_type": "code",
   "execution_count": 36,
   "metadata": {
    "collapsed": true
   },
   "outputs": [],
   "source": [
    "# df.to_csv('lenta_1000_lem.csv', encoding='utf-8') # Сохраняем результат"
   ]
  },
  {
   "cell_type": "markdown",
   "metadata": {},
   "source": [
    "#### Закодируем текстовое описание категории в лейблы"
   ]
  },
  {
   "cell_type": "code",
   "execution_count": 16,
   "metadata": {
    "collapsed": true
   },
   "outputs": [],
   "source": [
    "count_tags = len(df.tag.value_counts().index.values)\n",
    "tags = df.tag.value_counts().index.values\n",
    "\n",
    "lableEnc = LabelEncoder()\n",
    "lableEnc.fit(tags) \n",
    "lables = lableEnc.transform(tags).reshape((count_tags, 1))\n",
    "\n",
    "def tag_to_lable(tag):\n",
    "    return lableEnc.transform([tag])[0]\n",
    "\n",
    "df['y'] = df['tag'].apply(tag_to_lable)"
   ]
  },
  {
   "cell_type": "code",
   "execution_count": 18,
   "metadata": {},
   "outputs": [
    {
     "data": {
      "text/html": [
       "<div>\n",
       "<style>\n",
       "    .dataframe thead tr:only-child th {\n",
       "        text-align: right;\n",
       "    }\n",
       "\n",
       "    .dataframe thead th {\n",
       "        text-align: left;\n",
       "    }\n",
       "\n",
       "    .dataframe tbody tr th {\n",
       "        vertical-align: top;\n",
       "    }\n",
       "</style>\n",
       "<table border=\"1\" class=\"dataframe\">\n",
       "  <thead>\n",
       "    <tr style=\"text-align: right;\">\n",
       "      <th></th>\n",
       "      <th>title</th>\n",
       "      <th>text</th>\n",
       "      <th>tag</th>\n",
       "      <th>lem_text</th>\n",
       "      <th>y</th>\n",
       "    </tr>\n",
       "  </thead>\n",
       "  <tbody>\n",
       "    <tr>\n",
       "      <th>5020</th>\n",
       "      <td>Из библиотеки Академии наук похищена редкая кн...</td>\n",
       "      <td>Из Библиотеки Академии наук в Петербурге в нов...</td>\n",
       "      <td>culture</td>\n",
       "      <td>из_PREP библиотека_NOUN академия_NOUN наука_NO...</td>\n",
       "      <td>0</td>\n",
       "    </tr>\n",
       "    <tr>\n",
       "      <th>1034</th>\n",
       "      <td>Сетевым авторам предложили написать wiki-роман.</td>\n",
       "      <td>Британское издательство Penguin и университет ...</td>\n",
       "      <td>media</td>\n",
       "      <td>британский_ADJF издательство_NOUN penguin_None...</td>\n",
       "      <td>3</td>\n",
       "    </tr>\n",
       "    <tr>\n",
       "      <th>2993</th>\n",
       "      <td>АЛРОСа временно ушла с международного рынка ал...</td>\n",
       "      <td>Крупнейшая в России алмазодобывающая компания ...</td>\n",
       "      <td>economics</td>\n",
       "      <td>крупный_ADJF россия_NOUN алмазодобывающий_ADJF...</td>\n",
       "      <td>1</td>\n",
       "    </tr>\n",
       "    <tr>\n",
       "      <th>2090</th>\n",
       "      <td>Сербия попросила у МВФ дополнительные два милл...</td>\n",
       "      <td>Правительство Сербии начало переговоры с Между...</td>\n",
       "      <td>economics</td>\n",
       "      <td>правительство_NOUN сербия_NOUN начать_VERB пер...</td>\n",
       "      <td>1</td>\n",
       "    </tr>\n",
       "    <tr>\n",
       "      <th>1476</th>\n",
       "      <td>Сергей Кургинян ушел с телеканала \"Россия 1\".</td>\n",
       "      <td>Политолог Сергей Кургинян больше не будет вест...</td>\n",
       "      <td>media</td>\n",
       "      <td>политолог_NOUN сергей_NOUN кургинян_NOUN вести...</td>\n",
       "      <td>3</td>\n",
       "    </tr>\n",
       "  </tbody>\n",
       "</table>\n",
       "</div>"
      ],
      "text/plain": [
       "                                                  title  \\\n",
       "5020  Из библиотеки Академии наук похищена редкая кн...   \n",
       "1034   Сетевым авторам предложили написать wiki-роман.    \n",
       "2993  АЛРОСа временно ушла с международного рынка ал...   \n",
       "2090  Сербия попросила у МВФ дополнительные два милл...   \n",
       "1476     Сергей Кургинян ушел с телеканала \"Россия 1\".    \n",
       "\n",
       "                                                   text        tag  \\\n",
       "5020  Из Библиотеки Академии наук в Петербурге в нов...    culture   \n",
       "1034  Британское издательство Penguin и университет ...      media   \n",
       "2993  Крупнейшая в России алмазодобывающая компания ...  economics   \n",
       "2090  Правительство Сербии начало переговоры с Между...  economics   \n",
       "1476  Политолог Сергей Кургинян больше не будет вест...      media   \n",
       "\n",
       "                                               lem_text  y  \n",
       "5020  из_PREP библиотека_NOUN академия_NOUN наука_NO...  0  \n",
       "1034  британский_ADJF издательство_NOUN penguin_None...  3  \n",
       "2993  крупный_ADJF россия_NOUN алмазодобывающий_ADJF...  1  \n",
       "2090  правительство_NOUN сербия_NOUN начать_VERB пер...  1  \n",
       "1476  политолог_NOUN сергей_NOUN кургинян_NOUN вести...  3  "
      ]
     },
     "execution_count": 18,
     "metadata": {},
     "output_type": "execute_result"
    }
   ],
   "source": [
    "df.sample(n=5)"
   ]
  },
  {
   "cell_type": "markdown",
   "metadata": {},
   "source": [
    "### Model №1 TF-IDF + LOGIT"
   ]
  },
  {
   "cell_type": "markdown",
   "metadata": {},
   "source": [
    "### TF-IDF\n",
    "TF-IDF - статистическая мера, используемая для оценки важности слова в контексте документа, являющегося частью коллекции документов или корпуса. Вес некоторого слова пропорционален количеству употребления этого слова в документе, и обратно пропорционален частоте употребления слова в других документах коллекции."
   ]
  },
  {
   "cell_type": "markdown",
   "metadata": {},
   "source": [
    "\n",
    "$$ tf_{i,j} = \\frac{n_{i,j}}{\\sum_k n_{k,j}} $$\n",
    "\n",
    "$$ idf_i = \\mbox{log} \\frac{|D|}{|{d : t_i \\in d}|} $$\n",
    "\n",
    "$$ tfidf_{i,j} = tf_{i,j} * idf_{i}$$"
   ]
  },
  {
   "cell_type": "markdown",
   "metadata": {},
   "source": [
    "пример с картинкой"
   ]
  },
  {
   "cell_type": "code",
   "execution_count": 19,
   "metadata": {
    "collapsed": true
   },
   "outputs": [],
   "source": [
    "from sklearn.feature_extraction.text import TfidfVectorizer\n",
    "from sklearn.linear_model import LogisticRegression\n",
    "from sklearn.metrics import classification_report"
   ]
  },
  {
   "cell_type": "code",
   "execution_count": 20,
   "metadata": {},
   "outputs": [
    {
     "name": "stdout",
     "output_type": "stream",
     "text": [
      "Wall time: 1.62 s\n"
     ]
    }
   ],
   "source": [
    "%%time\n",
    "tfidf_vectorizer = TfidfVectorizer(lowercase=True, max_features=10000)\n",
    "# vectors = tfidf_vectorizer.fit_transform(df['title'].values)\n",
    "# vectors = tfidf_vectorizer.fit_transform(df['text'].values)\n",
    "vectors = tfidf_vectorizer.fit_transform(df['lem_text'].values)"
   ]
  },
  {
   "cell_type": "code",
   "execution_count": 21,
   "metadata": {
    "collapsed": true
   },
   "outputs": [],
   "source": [
    "X_train, X_test, y_train, y_test = train_test_split(vectors, df['y'], test_size=0.2, random_state=42)"
   ]
  },
  {
   "cell_type": "code",
   "execution_count": 26,
   "metadata": {},
   "outputs": [
    {
     "name": "stdout",
     "output_type": "stream",
     "text": [
      "Wall time: 1.3 s\n"
     ]
    }
   ],
   "source": [
    "%%time\n",
    "logit = LogisticRegression(n_jobs=-1, random_state=42, multi_class='multinomial', solver='saga')\n",
    "logit.fit(X_train, y_train)"
   ]
  },
  {
   "cell_type": "code",
   "execution_count": 27,
   "metadata": {},
   "outputs": [
    {
     "name": "stdout",
     "output_type": "stream",
     "text": [
      "             precision    recall  f1-score   support\n",
      "\n",
      "    culture       0.88      0.87      0.87       211\n",
      "  economics       0.89      0.93      0.91       178\n",
      "       life       0.72      0.79      0.75       186\n",
      "      media       0.88      0.81      0.84       224\n",
      "    science       0.88      0.88      0.88       183\n",
      "      sport       0.98      0.95      0.96       215\n",
      "      world       0.83      0.82      0.83       203\n",
      "\n",
      "avg / total       0.87      0.86      0.86      1400\n",
      "\n"
     ]
    }
   ],
   "source": [
    "y_pred = logit.predict(X_test)\n",
    "print(classification_report(y_test, y_pred, target_names=lableEnc.classes_)) # Acc"
   ]
  },
  {
   "cell_type": "markdown",
   "metadata": {},
   "source": [
    "#### Интерпретируем модель"
   ]
  },
  {
   "cell_type": "code",
   "execution_count": 29,
   "metadata": {
    "collapsed": true
   },
   "outputs": [],
   "source": [
    "id2word_tfidf = {y:x for x, y in tfidf_vectorizer.vocabulary_.items()}"
   ]
  },
  {
   "cell_type": "code",
   "execution_count": 46,
   "metadata": {
    "scrolled": true
   },
   "outputs": [
    {
     "data": {
      "text/plain": [
       "[('матч_noun', 4.6970420424323045),\n",
       " ('команда_noun', 3.2893632362658325),\n",
       " ('чемпионат_noun', 3.1903224167516551),\n",
       " ('клуб_noun', 3.1688124304143965),\n",
       " ('сборный_adjf', 3.1510016408531225),\n",
       " ('тренер_noun', 2.9493814253653774),\n",
       " ('турнир_noun', 2.8972923974308427),\n",
       " ('чемпион_noun', 2.7343026224013229),\n",
       " ('футболист_noun', 2.3641815672194602),\n",
       " ('спортсмен_noun', 2.3491643868024239)]"
      ]
     },
     "execution_count": 46,
     "metadata": {},
     "output_type": "execute_result"
    }
   ],
   "source": [
    "tag_id_for_impotence = 5\n",
    "dict_word_weight = {id2word_tfidf[index]:value for index, value in enumerate(logit.coef_[tag_id_for_impotence])}\n",
    "sorted(dict_word_weight.items(), key=lambda x: x[1], reverse=True)[:10]"
   ]
  },
  {
   "cell_type": "code",
   "execution_count": 51,
   "metadata": {},
   "outputs": [
    {
     "name": "stdout",
     "output_type": "stream",
     "text": [
      "Текст новости: чемпионат_NOUN мир_NOUN футбол_NOUN скоро_ADVB начаться_VERB\n",
      "Категория: sport\n"
     ]
    }
   ],
   "source": [
    "my_news = text_lemmatizer('чемпионат мира по футболу скоро начнется')\n",
    "print('Текст новости:', my_news)\n",
    "query_vector = tfidf_vectorizer.transform([my_news])\n",
    "lable = logit.predict(query_vector)\n",
    "print('Категория:', lableEnc.inverse_transform(lable)[0])"
   ]
  },
  {
   "cell_type": "markdown",
   "metadata": {},
   "source": [
    "### Average Word2Vec\n",
    "Тут тоже рассказики\n",
    "Рассказать идею"
   ]
  },
  {
   "cell_type": "code",
   "execution_count": 2,
   "metadata": {
    "collapsed": true
   },
   "outputs": [],
   "source": [
    "# !pip install gensim"
   ]
  },
  {
   "cell_type": "code",
   "execution_count": 52,
   "metadata": {},
   "outputs": [
    {
     "name": "stderr",
     "output_type": "stream",
     "text": [
      "C:\\Program Files\\Anaconda3\\lib\\site-packages\\gensim\\utils.py:865: UserWarning: detected Windows; aliasing chunkize to chunkize_serial\n",
      "  warnings.warn(\"detected Windows; aliasing chunkize to chunkize_serial\")\n",
      "Using TensorFlow backend.\n"
     ]
    }
   ],
   "source": [
    "import gensim"
   ]
  },
  {
   "cell_type": "markdown",
   "metadata": {},
   "source": [
    "Придумать пример где TF-IDF плох и показать как хорош W2V"
   ]
  },
  {
   "cell_type": "code",
   "execution_count": 107,
   "metadata": {
    "collapsed": true
   },
   "outputs": [],
   "source": [
    "def get_average_w2v_vectors(w2v_model, train_set, tfidf_vectorizer=None):\n",
    "    '''get movies avarage w2v vectors'''\n",
    "    text_vectors = []\n",
    "    for text in train_set:\n",
    "        words = text.split()\n",
    "        word_vectors = []\n",
    "        for word in words:\n",
    "            if (word in w2v_model):\n",
    "                word_vector = w2v_model[word]\n",
    "                if tfidf_vectorizer:\n",
    "                    word_idf = vectorizer.idf_[vectorizer.vocabulary_[movie_word]]\n",
    "                    word_vector = word_vector  * word_idf\n",
    "                word_vectors.append(word_vector)\n",
    "        text_vectors.append(np.average(word_vectors, axis=0))\n",
    "    return np.array(text_vectors)"
   ]
  },
  {
   "cell_type": "code",
   "execution_count": 69,
   "metadata": {
    "collapsed": true
   },
   "outputs": [],
   "source": [
    "def transform(word2vec, X):\n",
    "        return np.array([np.mean([word2vec[word] for word in sent.split() if word in word2vec] or \n",
    "                                 [np.zeros(w2v_model.vector_size)], axis=0)\n",
    "                         for sent in X])"
   ]
  },
  {
   "cell_type": "code",
   "execution_count": 44,
   "metadata": {
    "collapsed": true
   },
   "outputs": [],
   "source": [
    "# w2v_model = gensim.models.Word2Vec.load('w2v/movies_w2v_lem_review_with_not.model')"
   ]
  },
  {
   "cell_type": "code",
   "execution_count": 55,
   "metadata": {
    "collapsed": true
   },
   "outputs": [],
   "source": [
    "# Готовые модели на http://rusvectores.org/ru/models/\n",
    "w2v_model = gensim.models.KeyedVectors.load_word2vec_format('news_upos_cbow_300_2_2017.bin.gz', binary=True)"
   ]
  },
  {
   "cell_type": "code",
   "execution_count": 56,
   "metadata": {
    "scrolled": true
   },
   "outputs": [
    {
     "data": {
      "text/plain": [
       "[('стратегия_NOUN', 0.39227014780044556),\n",
       " ('госполитика_NOUN', 0.3522140383720398),\n",
       " ('реформа_NOUN', 0.34776410460472107),\n",
       " ('развитие_NOUN', 0.34623318910598755),\n",
       " ('дкп_NOUN', 0.3374726176261902),\n",
       " ('агрополитика_NOUN', 0.329285204410553),\n",
       " ('соцполитика_NOUN', 0.31780004501342773),\n",
       " ('сотрудничество_NOUN', 0.31736862659454346),\n",
       " ('регулирование_NOUN', 0.3144778609275818),\n",
       " ('риторика_NOUN', 0.31168729066848755)]"
      ]
     },
     "execution_count": 56,
     "metadata": {},
     "output_type": "execute_result"
    }
   ],
   "source": [
    "w2v_model.wv.most_similar(['политика_NOUN'])"
   ]
  },
  {
   "cell_type": "code",
   "execution_count": 71,
   "metadata": {},
   "outputs": [
    {
     "name": "stdout",
     "output_type": "stream",
     "text": [
      "Wall time: 2.35 s\n"
     ]
    }
   ],
   "source": [
    "%%time\n",
    "# w2v_vectors = get_average_w2v_vectors(w2v_model, df['lem_text'])\n",
    "w2v_vectors = transform(w2v_model, df['lem_text'])"
   ]
  },
  {
   "cell_type": "code",
   "execution_count": 74,
   "metadata": {},
   "outputs": [
    {
     "data": {
      "text/plain": [
       "array([[  3.89993587e-03,  -5.92009677e-03,   9.75634321e-05, ...,\n",
       "         -1.94175784e-02,   1.93597525e-02,   1.42552396e-02],\n",
       "       [ -2.44142022e-02,   2.51718387e-02,  -1.12227416e-02, ...,\n",
       "         -8.49262066e-03,   2.14149971e-02,  -1.46490885e-02],\n",
       "       [  7.38463085e-03,   7.32827582e-04,  -2.43212227e-02, ...,\n",
       "         -1.50246648e-02,  -5.54042170e-03,   2.09822087e-03],\n",
       "       [ -9.41815134e-03,  -3.19693983e-02,  -3.52576980e-03, ...,\n",
       "         -2.17719339e-02,   6.49620825e-03,  -2.67958525e-03],\n",
       "       [ -2.34256610e-02,  -3.53221956e-04,  -1.40080974e-02, ...,\n",
       "          1.08224503e-03,  -1.07913800e-02,   1.67869851e-02]])"
      ]
     },
     "execution_count": 74,
     "metadata": {},
     "output_type": "execute_result"
    }
   ],
   "source": [
    "w2v_vectors[:5]"
   ]
  },
  {
   "cell_type": "code",
   "execution_count": 75,
   "metadata": {
    "collapsed": true
   },
   "outputs": [],
   "source": [
    "X_train, X_test, y_train, y_test = train_test_split(w2v_vectors, df['y'], test_size=0.2, random_state=42)"
   ]
  },
  {
   "cell_type": "code",
   "execution_count": 76,
   "metadata": {},
   "outputs": [
    {
     "name": "stdout",
     "output_type": "stream",
     "text": [
      "Wall time: 2.54 s\n"
     ]
    }
   ],
   "source": [
    "%%time\n",
    "logit = LogisticRegression(n_jobs=-1, random_state=42, multi_class='multinomial', solver='saga')\n",
    "logit.fit(X_train, y_train)"
   ]
  },
  {
   "cell_type": "code",
   "execution_count": 77,
   "metadata": {},
   "outputs": [
    {
     "name": "stdout",
     "output_type": "stream",
     "text": [
      "             precision    recall  f1-score   support\n",
      "\n",
      "    culture       0.84      0.84      0.84       211\n",
      "  economics       0.82      0.93      0.87       178\n",
      "       life       0.69      0.75      0.72       186\n",
      "      media       0.81      0.68      0.74       224\n",
      "    science       0.80      0.79      0.80       183\n",
      "      sport       0.98      0.91      0.94       215\n",
      "      world       0.76      0.81      0.78       203\n",
      "\n",
      "avg / total       0.82      0.81      0.81      1400\n",
      "\n"
     ]
    }
   ],
   "source": [
    "y_pred = logit.predict(X_test)\n",
    "print(classification_report(y_test, y_pred, target_names=lableEnc.classes_))"
   ]
  },
  {
   "cell_type": "markdown",
   "metadata": {},
   "source": [
    "Почему такие результаты"
   ]
  },
  {
   "cell_type": "markdown",
   "metadata": {},
   "source": [
    "## Deep Learning for Text Classification"
   ]
  },
  {
   "cell_type": "markdown",
   "metadata": {},
   "source": [
    "### CNN + CHAR N GRAMS\n",
    "Тут тоже рассказик\n",
    "картинки"
   ]
  },
  {
   "cell_type": "code",
   "execution_count": 78,
   "metadata": {},
   "outputs": [],
   "source": [
    "from sklearn.feature_extraction.text import CountVectorizer\n",
    "from keras.preprocessing.text import Tokenizer"
   ]
  },
  {
   "cell_type": "code",
   "execution_count": 79,
   "metadata": {
    "collapsed": true
   },
   "outputs": [],
   "source": [
    "import keras\n",
    "from keras.models import Sequential\n",
    "from keras.layers import Dense, Activation, Embedding, TimeDistributed, Bidirectional\n",
    "from keras.layers import LSTM, SpatialDropout1D, Conv1D, GlobalMaxPooling1D, MaxPooling1D, Flatten"
   ]
  },
  {
   "cell_type": "markdown",
   "metadata": {},
   "source": [
    "НУЖНО НАЙТИ ЗАМЕНУ!"
   ]
  },
  {
   "cell_type": "code",
   "execution_count": 88,
   "metadata": {},
   "outputs": [],
   "source": [
    "def texts2ngrams(texts, n=3, lowercase=True):\n",
    "    \"\"\" Convert text into character ngrams. \"\"\"\n",
    "    vectors = []\n",
    "    dict_grams = {}\n",
    "    char_index = 0\n",
    "    for text in texts:\n",
    "        if lowercase:\n",
    "            text = text.lower()\n",
    "        vector = []\n",
    "        grams_for_text = [\"\".join(j) for j in zip(*[text[i:] for i in range(n)])]\n",
    "        for gram in grams_for_text:\n",
    "            if gram in dict_grams:\n",
    "                vector.append(dict_grams[gram])\n",
    "            else:\n",
    "                dict_grams[gram] = char_index\n",
    "                vector.append(char_index)\n",
    "                char_index += 1\n",
    "        vectors.append(vector)\n",
    "    count_grams = len(dict_grams)\n",
    "    print('Количество уникальных ngrams:', count_grams)\n",
    "    return vectors, count_grams"
   ]
  },
  {
   "cell_type": "code",
   "execution_count": 89,
   "metadata": {
    "collapsed": true
   },
   "outputs": [],
   "source": [
    "def print_plot_mean(x):\n",
    "    lens = [len(y) for y in x]\n",
    "    print('Max len:', max(lens))\n",
    "    plt.plot(lens);"
   ]
  },
  {
   "cell_type": "code",
   "execution_count": 91,
   "metadata": {
    "scrolled": true
   },
   "outputs": [
    {
     "name": "stdout",
     "output_type": "stream",
     "text": [
      "Количество уникальных ngrams: 27994\n",
      "Max len: 30883\n",
      "Wall time: 8.5 s\n"
     ]
    }
   ],
   "source": [
    "%%time\n",
    "gram_vectors, count_grams = texts2ngrams(df.lem_text)\n",
    "print_plot_mean(gram_vectors)"
   ]
  },
  {
   "cell_type": "markdown",
   "metadata": {},
   "source": [
    "Показать картинку "
   ]
  },
  {
   "cell_type": "code",
   "execution_count": 92,
   "metadata": {
    "collapsed": true
   },
   "outputs": [],
   "source": [
    "X = keras.preprocessing.sequence.pad_sequences(gram_vectors, maxlen=2500)     \n",
    "y = keras.utils.to_categorical(df['y'], count_tags)"
   ]
  },
  {
   "cell_type": "code",
   "execution_count": 93,
   "metadata": {
    "collapsed": true
   },
   "outputs": [],
   "source": [
    "def get_conv_model(embeding_size, num_classes):\n",
    "    model = Sequential()\n",
    "    model.add(Embedding(embeding_size, 200))\n",
    "    model.add(SpatialDropout1D(0.2))\n",
    "    model.add(Conv1D(filters=256, kernel_size=3, activation='relu'))\n",
    "    model.add(GlobalMaxPooling1D())\n",
    "    model.add(Dense(num_classes, activation=\"sigmoid\"))\n",
    "    model.compile(loss='categorical_crossentropy', optimizer='adam', metrics=['accuracy'])\n",
    "    return model"
   ]
  },
  {
   "cell_type": "code",
   "execution_count": 94,
   "metadata": {
    "collapsed": true
   },
   "outputs": [],
   "source": [
    "X_train, X_test, y_train, y_test = train_test_split(X, y, test_size=0.2, random_state=42)"
   ]
  },
  {
   "cell_type": "code",
   "execution_count": null,
   "metadata": {},
   "outputs": [
    {
     "name": "stdout",
     "output_type": "stream",
     "text": [
      "_________________________________________________________________\n",
      "Layer (type)                 Output Shape              Param #   \n",
      "=================================================================\n",
      "embedding_1 (Embedding)      (None, None, 200)         5598800   \n",
      "_________________________________________________________________\n",
      "spatial_dropout1d_1 (Spatial (None, None, 200)         0         \n",
      "_________________________________________________________________\n",
      "conv1d_1 (Conv1D)            (None, None, 256)         153856    \n",
      "_________________________________________________________________\n",
      "global_max_pooling1d_1 (Glob (None, 256)               0         \n",
      "_________________________________________________________________\n",
      "dense_1 (Dense)              (None, 7)                 1799      \n",
      "=================================================================\n",
      "Total params: 5,754,455\n",
      "Trainable params: 5,754,455\n",
      "Non-trainable params: 0\n",
      "_________________________________________________________________\n",
      "Train on 5600 samples, validate on 1400 samples\n",
      "Epoch 1/3\n",
      "2816/5600 [==============>...............] - ETA: 387s - loss: 1.9190 - acc: 0.3082"
     ]
    }
   ],
   "source": [
    "%%time\n",
    "model = get_conv_model(embeding_size=count_grams, num_classes=count_tags)\n",
    "model.summary()\n",
    "\n",
    "BATCH_SIZE = 256\n",
    "EPOCHS = 3\n",
    "VERBOSE = 1\n",
    "\n",
    "history = model.fit(X_train, y_train,\n",
    "                    batch_size=BATCH_SIZE,\n",
    "                    epochs=EPOCHS, verbose=VERBOSE,\n",
    "                    validation_data=(X_test, y_test)\n",
    "                    #validation_split=0.1, \n",
    "                    #callbacks=[EarlyStopping(monitor='val_loss')]\n",
    "                   )"
   ]
  },
  {
   "cell_type": "code",
   "execution_count": 135,
   "metadata": {},
   "outputs": [
    {
     "name": "stdout",
     "output_type": "stream",
     "text": [
      "Точность модели составляет: 77.57142860548836\n"
     ]
    }
   ],
   "source": [
    "print('Точность модели составляет: {}'.format(model.evaluate(X_test, y_test, batch_size=64, verbose=2)[1] * 100))"
   ]
  },
  {
   "cell_type": "code",
   "execution_count": 136,
   "metadata": {},
   "outputs": [
    {
     "name": "stdout",
     "output_type": "stream",
     "text": [
      "dict_keys(['val_loss', 'val_acc', 'loss', 'acc'])\n"
     ]
    },
    {
     "data": {
      "image/png": "[encoded data removed]",
      "text/plain": [
       "<matplotlib.figure.Figure at 0x7ff5247611d0>"
      ]
     },
     "metadata": {},
     "output_type": "display_data"
    },
    {
     "data": {
      "image/png": "[encoded data removed]",
      "text/plain": [
       "<matplotlib.figure.Figure at 0x7ff524740cc0>"
      ]
     },
     "metadata": {},
     "output_type": "display_data"
    }
   ],
   "source": [
    "from matplotlib import pyplot as plt\n",
    "print(history.history.keys())\n",
    "plt.plot(history.history['acc'])\n",
    "plt.plot(history.history['val_acc'])\n",
    "plt.title('model accuracy')\n",
    "plt.ylabel('accuracy')\n",
    "plt.xlabel('epoch')\n",
    "plt.legend(['train', 'valid'], loc='upper left')\n",
    "plt.show();\n",
    "# summarize history for loss\n",
    "plt.plot(history.history['loss'])\n",
    "plt.plot(history.history['val_loss'])\n",
    "plt.title('model loss')\n",
    "plt.ylabel('loss')\n",
    "plt.xlabel('epoch')\n",
    "plt.legend(['train', 'valid'], loc='upper left')\n",
    "plt.show();"
   ]
  },
  {
   "cell_type": "markdown",
   "metadata": {},
   "source": [
    "График обучения"
   ]
  },
  {
   "cell_type": "markdown",
   "metadata": {},
   "source": [
    "Посчитать на ноуте"
   ]
  },
  {
   "cell_type": "markdown",
   "metadata": {},
   "source": [
    "Результаты"
   ]
  }
 ],
 "metadata": {
  "kernelspec": {
   "display_name": "Python 3",
   "language": "python",
   "name": "python3"
  },
  "language_info": {
   "codemirror_mode": {
    "name": "ipython",
    "version": 3
   },
   "file_extension": ".py",
   "mimetype": "text/x-python",
   "name": "python",
   "nbconvert_exporter": "python",
   "pygments_lexer": "ipython3",
   "version": "3.6.0"
  }
 },
 "nbformat": 4,
 "nbformat_minor": 2
}
